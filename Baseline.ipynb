{
 "cells": [
  {
   "cell_type": "code",
   "execution_count": 2,
   "id": "super-grounds",
   "metadata": {},
   "outputs": [],
   "source": [
    "# common library\n",
    "import os\n",
    "import math\n",
    "import matplotlib.pyplot as plt\n",
    "import pandas as pd\n",
    "import numpy as np\n",
    "from PIL import Image\n",
    "import argparse\n",
    "import json\n",
    "import cv2\n",
    "\n",
    "# torch library\n",
    "import torch\n",
    "import torch.nn as nn\n",
    "import torch.nn.functional as F\n",
    "from torch.utils.data import Dataset, DataLoader\n",
    "from torchvision import transforms\n",
    "import torchvision.models as models\n",
    "\n",
    "# import my file\n",
    "from lib.data_utils import test"
   ]
  },
  {
   "cell_type": "markdown",
   "id": "intensive-merchant",
   "metadata": {},
   "source": [
    "1-10是simulator的数据集，11-14是Intraoperative的数据集"
   ]
  },
  {
   "cell_type": "code",
   "execution_count": 34,
   "id": "international-programming",
   "metadata": {},
   "outputs": [
    {
     "name": "stdout",
     "output_type": "stream",
     "text": [
      "Traindata/aicm1/VID000_0/images\n",
      "Traindata/aicm1/VID000_0/point_labels\n"
     ]
    }
   ],
   "source": [
    "\n",
    "# base path \n",
    "base_path = 'Traindata/'\n",
    "# simulator data set\n",
    "simulator_num = [i+1 for i in range(10)]\n",
    "s_tmp = '1'\n",
    "simulator_path = base_path + 'aicm'+s_tmp+'/VID000_0'\n",
    "# intraoperative data set\n",
    "intra_num = [11, 12, 13, 14]\n",
    "i_tmp = '11'\n",
    "intra_path = 'aicm' + i_tmp\n",
    "\n",
    "images_path = simulator_path + '/images'\n",
    "labels_path = simulator_path + '/point_labels'\n",
    "\n",
    "print(images_path)\n",
    "print(labels_path)"
   ]
  },
  {
   "cell_type": "code",
   "execution_count": 46,
   "id": "surprising-thong",
   "metadata": {},
   "outputs": [],
   "source": [
    "images_name = os.listdir(images_path)\n",
    "labels_name = os.listdir(labels_path)\n",
    "file_name = []\n",
    "for i in images_name:\n",
    "    file_name.append(i.split(\".\")[0])\n",
    "#     print(i.split(\".\")[0])\n",
    "# print(file_name)\n",
    "# print(images_name)\n",
    "# print(labels_name)\n",
    "\n",
    "\n"
   ]
  },
  {
   "cell_type": "code",
   "execution_count": 11,
   "id": "cordless-marijuana",
   "metadata": {},
   "outputs": [
    {
     "name": "stdout",
     "output_type": "stream",
     "text": [
      "I am in utils\n"
     ]
    }
   ],
   "source": [
    "test()"
   ]
  },
  {
   "cell_type": "code",
   "execution_count": 11,
   "id": "mobile-cedar",
   "metadata": {},
   "outputs": [],
   "source": [
    "import json\n",
    "import glob\n",
    "import os\n",
    "import cv2\n",
    "import numpy as np\n",
    "import matplotlib.pyplot as plt\n",
    "from PIL import Image\n",
    "\n",
    "def label2mask(file_name):\n",
    "    file_in = json.load(open(file_name))\n",
    "    points = file_in[\"points\"]\n",
    "    point_outs = []\n",
    "    height = file_in[\"imageHeight\"]\n",
    "    width = file_in[\"imageWidth\"]\n",
    "    img = np.zeros((height,width,3),dtype = np.uint8)\n",
    "    for point in points:\n",
    "        point_out = []\n",
    "        point_out.append(point[\"x\"])\n",
    "        point_out.append(point[\"y\"])\n",
    "        point_outs.append(point_out)\n",
    "    for a in point_outs:\n",
    "        img[a[0],a[1]] = [255,255,255]\n",
    "        for i in range(6):\n",
    "            img[a[0]+i,a[1]+i] = [255,255,255]\n",
    "            img[a[0]+i,a[1]-i] = [255,255,255]\n",
    "            img[a[0]-i,a[1]+i] = [255,255,255]\n",
    "            img[a[0]-i,a[1]-i] = [255,255,255]\n",
    "    img_show = Image.fromarray(img,\"RGB\")\n",
    "    img_show.show()\n",
    "    img_show.save(\"./cyclemap.png\")\n"
   ]
  },
  {
   "cell_type": "code",
   "execution_count": 12,
   "id": "helpful-thanks",
   "metadata": {},
   "outputs": [],
   "source": [
    "label2mask(\"./Traindata/aicm2/VID000_0/point_labels/sim_000000.json\")"
   ]
  },
  {
   "cell_type": "code",
   "execution_count": 35,
   "id": "smart-reviewer",
   "metadata": {},
   "outputs": [],
   "source": [
    "import matplotlib.pyplot as plt\n",
    "import numpy as np\n",
    "import cv2\n",
    "\n",
    "\n",
    "\n",
    "# target = np.zeros((288, 512))\n",
    "# plt.imshow(target, cmap='hot', interpolation='nearest')\n",
    "# plt.show()\n",
    "# target = generate_heatmap(target, (15, 15))\n",
    "# plt.imshow(target, cmap='hot', interpolation='nearest')\n",
    "# plt.show()\n",
    "# # print(target)"
   ]
  },
  {
   "cell_type": "code",
   "execution_count": 36,
   "id": "streaming-prison",
   "metadata": {},
   "outputs": [],
   "source": [
    "def generate_heatmap(img, x, y, sigma=(15,15)):\n",
    "    img[x][y] = 1\n",
    "    img = cv2.GaussianBlur(img, sigma, 2)\n",
    "    am = np.amax(img)\n",
    "    img /= am / 255\n",
    "    heatmap = img\n",
    "    return heatmap\n",
    "\n",
    "\n",
    "\n",
    "def heatmap_generator(file_name):\n",
    "    file_in = json.load(open(file_name))\n",
    "    points = file_in[\"points\"]\n",
    "    point_outs = []\n",
    "    height = file_in[\"imageHeight\"]\n",
    "    width = file_in[\"imageWidth\"]\n",
    "    img = np.zeros((height,width,3),dtype = np.uint8)\n",
    "    for point in points:\n",
    "        point_out = []\n",
    "        point_out.append(point[\"x\"])\n",
    "        point_out.append(point[\"y\"])\n",
    "        point_outs.append(point_out)\n",
    "    \n",
    "    x, y = point_outs[0]\n",
    "    img = generate_heatmap(img, x, y)\n",
    "\n",
    "    img_show = Image.fromarray(img,\"RGB\")\n",
    "    img_show.show()\n",
    "    img_show.save(\"./pic/heatmap.png\")\n",
    "\n"
   ]
  },
  {
   "cell_type": "code",
   "execution_count": 37,
   "id": "amber-hindu",
   "metadata": {},
   "outputs": [
    {
     "ename": "TypeError",
     "evalue": "ufunc 'true_divide' output (typecode 'd') could not be coerced to provided output parameter (typecode 'B') according to the casting rule ''same_kind''",
     "output_type": "error",
     "traceback": [
      "\u001b[0;31m---------------------------------------------------------------------------\u001b[0m",
      "\u001b[0;31mTypeError\u001b[0m                                 Traceback (most recent call last)",
      "\u001b[0;32m<ipython-input-37-890c6e64b2f8>\u001b[0m in \u001b[0;36m<module>\u001b[0;34m\u001b[0m\n\u001b[0;32m----> 1\u001b[0;31m \u001b[0mheatmap_generator\u001b[0m\u001b[0;34m(\u001b[0m\u001b[0;34m\"./Traindata/aicm2/VID000_0/point_labels/sim_000000.json\"\u001b[0m\u001b[0;34m)\u001b[0m\u001b[0;34m\u001b[0m\u001b[0;34m\u001b[0m\u001b[0m\n\u001b[0m",
      "\u001b[0;32m<ipython-input-36-7d250b369559>\u001b[0m in \u001b[0;36mheatmap_generator\u001b[0;34m(file_name)\u001b[0m\n\u001b[1;32m     13\u001b[0m \u001b[0;34m\u001b[0m\u001b[0m\n\u001b[1;32m     14\u001b[0m     \u001b[0mx\u001b[0m\u001b[0;34m,\u001b[0m \u001b[0my\u001b[0m \u001b[0;34m=\u001b[0m \u001b[0mpoint_outs\u001b[0m\u001b[0;34m[\u001b[0m\u001b[0;36m0\u001b[0m\u001b[0;34m]\u001b[0m\u001b[0;34m\u001b[0m\u001b[0;34m\u001b[0m\u001b[0m\n\u001b[0;32m---> 15\u001b[0;31m     \u001b[0mimg\u001b[0m \u001b[0;34m=\u001b[0m \u001b[0mgenerate_heatmap\u001b[0m\u001b[0;34m(\u001b[0m\u001b[0mimg\u001b[0m\u001b[0;34m,\u001b[0m \u001b[0mx\u001b[0m\u001b[0;34m,\u001b[0m \u001b[0my\u001b[0m\u001b[0;34m)\u001b[0m\u001b[0;34m\u001b[0m\u001b[0;34m\u001b[0m\u001b[0m\n\u001b[0m\u001b[1;32m     16\u001b[0m \u001b[0;34m\u001b[0m\u001b[0m\n\u001b[1;32m     17\u001b[0m     \u001b[0mimg_show\u001b[0m \u001b[0;34m=\u001b[0m \u001b[0mImage\u001b[0m\u001b[0;34m.\u001b[0m\u001b[0mfromarray\u001b[0m\u001b[0;34m(\u001b[0m\u001b[0mimg\u001b[0m\u001b[0;34m,\u001b[0m\u001b[0;34m\"RGB\"\u001b[0m\u001b[0;34m)\u001b[0m\u001b[0;34m\u001b[0m\u001b[0;34m\u001b[0m\u001b[0m\n",
      "\u001b[0;32m<ipython-input-35-d0ef96f7c480>\u001b[0m in \u001b[0;36mgenerate_heatmap\u001b[0;34m(img, x, y, sigma)\u001b[0m\n\u001b[1;32m      7\u001b[0m     \u001b[0mimg\u001b[0m \u001b[0;34m=\u001b[0m \u001b[0mcv2\u001b[0m\u001b[0;34m.\u001b[0m\u001b[0mGaussianBlur\u001b[0m\u001b[0;34m(\u001b[0m\u001b[0mimg\u001b[0m\u001b[0;34m,\u001b[0m \u001b[0msigma\u001b[0m\u001b[0;34m,\u001b[0m \u001b[0;36m2\u001b[0m\u001b[0;34m)\u001b[0m\u001b[0;34m\u001b[0m\u001b[0;34m\u001b[0m\u001b[0m\n\u001b[1;32m      8\u001b[0m     \u001b[0mam\u001b[0m \u001b[0;34m=\u001b[0m \u001b[0mnp\u001b[0m\u001b[0;34m.\u001b[0m\u001b[0mamax\u001b[0m\u001b[0;34m(\u001b[0m\u001b[0mimg\u001b[0m\u001b[0;34m)\u001b[0m\u001b[0;34m\u001b[0m\u001b[0;34m\u001b[0m\u001b[0m\n\u001b[0;32m----> 9\u001b[0;31m     \u001b[0mimg\u001b[0m \u001b[0;34m/=\u001b[0m \u001b[0mam\u001b[0m \u001b[0;34m/\u001b[0m \u001b[0;36m255\u001b[0m\u001b[0;34m\u001b[0m\u001b[0;34m\u001b[0m\u001b[0m\n\u001b[0m\u001b[1;32m     10\u001b[0m     \u001b[0mheatmap\u001b[0m \u001b[0;34m=\u001b[0m \u001b[0mimg\u001b[0m\u001b[0;34m\u001b[0m\u001b[0;34m\u001b[0m\u001b[0m\n\u001b[1;32m     11\u001b[0m     \u001b[0;32mreturn\u001b[0m \u001b[0mheatmap\u001b[0m\u001b[0;34m\u001b[0m\u001b[0;34m\u001b[0m\u001b[0m\n",
      "\u001b[0;31mTypeError\u001b[0m: ufunc 'true_divide' output (typecode 'd') could not be coerced to provided output parameter (typecode 'B') according to the casting rule ''same_kind''"
     ]
    }
   ],
   "source": [
    "heatmap_generator(\"./Traindata/aicm2/VID000_0/point_labels/sim_000000.json\")"
   ]
  },
  {
   "cell_type": "code",
   "execution_count": null,
   "id": "excited-gregory",
   "metadata": {},
   "outputs": [],
   "source": []
  }
 ],
 "metadata": {
  "kernelspec": {
   "display_name": "Python 3",
   "language": "python",
   "name": "python3"
  },
  "language_info": {
   "codemirror_mode": {
    "name": "ipython",
    "version": 3
   },
   "file_extension": ".py",
   "mimetype": "text/x-python",
   "name": "python",
   "nbconvert_exporter": "python",
   "pygments_lexer": "ipython3",
   "version": "3.8.8"
  }
 },
 "nbformat": 4,
 "nbformat_minor": 5
}
