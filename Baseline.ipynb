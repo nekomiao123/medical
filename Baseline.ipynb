{
 "cells": [
  {
   "cell_type": "code",
   "execution_count": 20,
   "id": "underlying-isolation",
   "metadata": {},
   "outputs": [],
   "source": [
    "# common library\n",
    "import os\n",
    "import math\n",
    "import matplotlib.pyplot as plt\n",
    "import pandas as pd\n",
    "import numpy as np\n",
    "from PIL import Image\n",
    "import argparse\n",
    "import json\n",
    "import cv2\n",
    "\n",
    "# torch library\n",
    "import torch\n",
    "import torch.nn as nn\n",
    "import torch.nn.functional as F\n",
    "from torch.utils.data import Dataset, DataLoader\n",
    "from torchvision import transforms\n",
    "import torchvision.models as models\n",
    "\n",
    "# import my file\n",
    "from lib.data_utils import test"
   ]
  },
  {
   "cell_type": "markdown",
   "id": "killing-turtle",
   "metadata": {},
   "source": [
    "1-10是simulator的数据集，11-14是Intraoperative的数据集"
   ]
  },
  {
   "cell_type": "code",
   "execution_count": 34,
   "id": "utility-sociology",
   "metadata": {},
   "outputs": [
    {
     "name": "stdout",
     "output_type": "stream",
     "text": [
      "Traindata/aicm1/VID000_0/images\n",
      "Traindata/aicm1/VID000_0/point_labels\n"
     ]
    }
   ],
   "source": [
    "\n",
    "# base path \n",
    "base_path = 'Traindata/'\n",
    "# simulator data set\n",
    "simulator_num = [i+1 for i in range(10)]\n",
    "s_tmp = '1'\n",
    "simulator_path = base_path + 'aicm'+s_tmp+'/VID000_0'\n",
    "# intraoperative data set\n",
    "intra_num = [11, 12, 13, 14]\n",
    "i_tmp = '11'\n",
    "intra_path = 'aicm' + i_tmp\n",
    "\n",
    "images_path = simulator_path + '/images'\n",
    "labels_path = simulator_path + '/point_labels'\n",
    "\n",
    "print(images_path)\n",
    "print(labels_path)"
   ]
  },
  {
   "cell_type": "code",
   "execution_count": 46,
   "id": "plain-glossary",
   "metadata": {},
   "outputs": [],
   "source": [
    "images_name = os.listdir(images_path)\n",
    "labels_name = os.listdir(labels_path)\n",
    "file_name = []\n",
    "for i in images_name:\n",
    "    file_name.append(i.split(\".\")[0])\n",
    "#     print(i.split(\".\")[0])\n",
    "# print(file_name)\n",
    "# print(images_name)\n",
    "# print(labels_name)\n",
    "\n",
    "\n"
   ]
  },
  {
   "cell_type": "code",
   "execution_count": 11,
   "id": "exceptional-brown",
   "metadata": {},
   "outputs": [
    {
     "name": "stdout",
     "output_type": "stream",
     "text": [
      "I am in utils\n"
     ]
    }
   ],
   "source": [
    "test()"
   ]
  },
  {
   "cell_type": "code",
   "execution_count": null,
   "id": "invisible-alloy",
   "metadata": {},
   "outputs": [],
   "source": []
  }
 ],
 "metadata": {
  "kernelspec": {
   "display_name": "Python 3",
   "language": "python",
   "name": "python3"
  },
  "language_info": {
   "codemirror_mode": {
    "name": "ipython",
    "version": 3
   },
   "file_extension": ".py",
   "mimetype": "text/x-python",
   "name": "python",
   "nbconvert_exporter": "python",
   "pygments_lexer": "ipython3",
   "version": "3.8.8"
  }
 },
 "nbformat": 4,
 "nbformat_minor": 5
}
