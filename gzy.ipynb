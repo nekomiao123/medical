{
 "cells": [
  {
   "cell_type": "code",
   "execution_count": 45,
   "id": "apparent-edition",
   "metadata": {},
   "outputs": [],
   "source": [
    "import json\n",
    "import glob\n",
    "import os\n",
    "import cv2\n",
    "import numpy as np\n",
    "import matplotlib.pyplot as plt\n",
    "from PIL import Image"
   ]
  },
  {
   "cell_type": "code",
   "execution_count": 2,
   "id": "aggressive-clause",
   "metadata": {},
   "outputs": [],
   "source": [
    "def json_read(file_name):\n",
    "    file_in = json.load(open(file_name))\n",
    "    point_outs = []\n",
    "    points = file_in[\"points\"]\n",
    "    for point in points:\n",
    "        point_out = []\n",
    "        point_out.append(point[\"x\"])\n",
    "        point_out.append(point[\"y\"])\n",
    "        point_outs.append(point_out)\n",
    "    return point_outs"
   ]
  },
  {
   "cell_type": "code",
   "execution_count": 52,
   "id": "combined-buffer",
   "metadata": {},
   "outputs": [],
   "source": [
    "def label2mask(file_name):\n",
    "    file_in = json.load(open(file_name))\n",
    "    points = file_in[\"points\"]\n",
    "    point_outs = []\n",
    "    height = file_in[\"imageHeight\"]\n",
    "    width = file_in[\"imageWidth\"]\n",
    "    img = np.zeros((height,width,3),dtype = np.uint8)\n",
    "    for point in points:\n",
    "        point_out = []\n",
    "        point_out.append(point[\"x\"])\n",
    "        point_out.append(point[\"y\"])\n",
    "        point_outs.append(point_out)\n",
    "    for a in point_outs:\n",
    "        img[a[0],a[1]] = [255,255,255]\n",
    "    img_show = Image.fromarray(img,\"RGB\")\n",
    "    img_show.show()\n",
    "    img_show.save(\"./my.png\")"
   ]
  },
  {
   "cell_type": "code",
   "execution_count": 53,
   "id": "heard-turkey",
   "metadata": {},
   "outputs": [],
   "source": [
    "label2mask(\"./Traindata/aicm2/VID000_0/point_labels/sim_000000.json\")"
   ]
  },
  {
   "cell_type": "code",
   "execution_count": null,
   "id": "lovely-viewer",
   "metadata": {},
   "outputs": [],
   "source": [
    "# test\n",
    "print(type(cv2.imread(\"./mycode/Traindata/aicm1/VID000_0/images/sim_000000.png\")))"
   ]
  },
  {
   "cell_type": "code",
   "execution_count": null,
   "id": "reserved-whole",
   "metadata": {},
   "outputs": [],
   "source": [
    "class Medical_Data(Dataset):\n",
    "    def __init__(self, data_path):\n",
    "        self.data_path = data_path\n",
    "        self.imgs_path = glob.glob(os.path.join(data_path,\"image/*.png\"))\n",
    "    def __getitem__(self, index):\n",
    "        image_path = self.imgs_path[index]\n",
    "        label_path = image_path.replace(\"images\",\"point_labels\")\n",
    "        image = cv2.imread(image_path)\n",
    "        label = json_read(label_path)"
   ]
  }
 ],
 "metadata": {
  "kernelspec": {
   "display_name": "Python 3",
   "language": "python",
   "name": "python3"
  },
  "language_info": {
   "codemirror_mode": {
    "name": "ipython",
    "version": 3
   },
   "file_extension": ".py",
   "mimetype": "text/x-python",
   "name": "python",
   "nbconvert_exporter": "python",
   "pygments_lexer": "ipython3",
   "version": "3.8.8"
  }
 },
 "nbformat": 4,
 "nbformat_minor": 5
}
